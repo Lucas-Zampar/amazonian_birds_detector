{
 "cells": [
  {
   "cell_type": "markdown",
   "id": "3e309c0c",
   "metadata": {},
   "source": [
    "Notebook used to generate bar graphs referring to the proportions of annotations by species for each dataset."
   ]
  },
  {
   "cell_type": "code",
   "execution_count": 1,
   "id": "9ef1ea10",
   "metadata": {},
   "outputs": [],
   "source": [
    "import sys\n",
    "sys.path.append('../project_utils/')\n",
    "\n",
    "from visualization_utils import make_species_proportion_bar_plot"
   ]
  },
  {
   "cell_type": "markdown",
   "id": "b2f809ec",
   "metadata": {},
   "source": [
    "Figure referring to the proportion of annotations in the partial dataset. The CSV file was obtained by the partial dataset creation script."
   ]
  },
  {
   "cell_type": "code",
   "execution_count": 2,
   "id": "6a9b26a0",
   "metadata": {},
   "outputs": [],
   "source": [
    "filepath = \"partial_proportion.csv\"\n",
    "filename = \"partial_proportion.png\"\n",
    "\n",
    "make_species_proportion_bar_plot(filepath, filename)"
   ]
  },
  {
   "cell_type": "markdown",
   "id": "1278cadb",
   "metadata": {},
   "source": [
    "Figure referring to the proportion of annotations in the partial validation dataset. The CSV file was obtained from the FiftyOne annotation count."
   ]
  },
  {
   "cell_type": "code",
   "execution_count": 3,
   "id": "b516bc57",
   "metadata": {},
   "outputs": [],
   "source": [
    "filepath = \"partial_valid_proportion.csv\"\n",
    "filename = \"partial_valid_proportion.png\"\n",
    "\n",
    "make_species_proportion_bar_plot(filepath, filename)"
   ]
  },
  {
   "cell_type": "markdown",
   "id": "70b7847a",
   "metadata": {},
   "source": [
    "Figure referring to the proportion of annotations in the complete dataset. The CSV file was generated manually from the proportions found in RoboFlow."
   ]
  },
  {
   "cell_type": "code",
   "execution_count": 5,
   "id": "a229bbc3",
   "metadata": {},
   "outputs": [],
   "source": [
    "filepath = \"complete_proportion.csv\"\n",
    "filename = \"complete_proportion.png\"\n",
    "\n",
    "make_species_proportion_bar_plot(filepath, filename)"
   ]
  },
  {
   "cell_type": "markdown",
   "id": "f0e8a9c5",
   "metadata": {},
   "source": [
    "Figure referring to the proportion of annotations in the complete validation dataset. The CSV file was obtained from the FiftyOne annotation count."
   ]
  },
  {
   "cell_type": "code",
   "execution_count": 4,
   "id": "33a6799d",
   "metadata": {},
   "outputs": [],
   "source": [
    "filepath = \"complete_valid_proportion.csv\"\n",
    "filename = \"complete_valid_proportion.png\"\n",
    "\n",
    "make_species_proportion_bar_plot(filepath, filename)"
   ]
  }
 ],
 "metadata": {
  "kernelspec": {
   "display_name": "Python 3 (ipykernel)",
   "language": "python",
   "name": "python3"
  },
  "language_info": {
   "codemirror_mode": {
    "name": "ipython",
    "version": 3
   },
   "file_extension": ".py",
   "mimetype": "text/x-python",
   "name": "python",
   "nbconvert_exporter": "python",
   "pygments_lexer": "ipython3",
   "version": "3.9.13"
  }
 },
 "nbformat": 4,
 "nbformat_minor": 5
}
